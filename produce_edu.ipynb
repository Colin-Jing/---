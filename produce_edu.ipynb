{
 "cells": [
  {
   "cell_type": "code",
   "execution_count": 3,
   "id": "03b42abb",
   "metadata": {},
   "outputs": [],
   "source": [
    "import pandas as pd"
   ]
  },
  {
   "cell_type": "code",
   "execution_count": 21,
   "id": "afb53fab",
   "metadata": {},
   "outputs": [
    {
     "data": {
      "text/html": [
       "<div>\n",
       "<style scoped>\n",
       "    .dataframe tbody tr th:only-of-type {\n",
       "        vertical-align: middle;\n",
       "    }\n",
       "\n",
       "    .dataframe tbody tr th {\n",
       "        vertical-align: top;\n",
       "    }\n",
       "\n",
       "    .dataframe thead th {\n",
       "        text-align: right;\n",
       "    }\n",
       "</style>\n",
       "<table border=\"1\" class=\"dataframe\">\n",
       "  <thead>\n",
       "    <tr style=\"text-align: right;\">\n",
       "      <th></th>\n",
       "      <th>content</th>\n",
       "      <th>channelName</th>\n",
       "    </tr>\n",
       "  </thead>\n",
       "  <tbody>\n",
       "    <tr>\n",
       "      <th>0</th>\n",
       "      <td>拍板了！投资中国1170亿，连盖3座工厂，德国巨头冲着特斯拉来了</td>\n",
       "      <td>5</td>\n",
       "    </tr>\n",
       "    <tr>\n",
       "      <th>1</th>\n",
       "      <td>恒大透露更多造车细节：最快年底开启车型预售 智能网联系统百度腾讯任你选</td>\n",
       "      <td>5</td>\n",
       "    </tr>\n",
       "    <tr>\n",
       "      <th>2</th>\n",
       "      <td>综合续航超过1100公里 WEY玛奇朵还要直播见证？</td>\n",
       "      <td>5</td>\n",
       "    </tr>\n",
       "    <tr>\n",
       "      <th>3</th>\n",
       "      <td>混动时代的“WEY来”在哪里？上海车展这款玛奇朵有故事！</td>\n",
       "      <td>5</td>\n",
       "    </tr>\n",
       "    <tr>\n",
       "      <th>4</th>\n",
       "      <td>糅合纯电与燃油双重优势 WEY玛奇朵究竟是怎么做到的</td>\n",
       "      <td>5</td>\n",
       "    </tr>\n",
       "  </tbody>\n",
       "</table>\n",
       "</div>"
      ],
      "text/plain": [
       "                               content  channelName\n",
       "0     拍板了！投资中国1170亿，连盖3座工厂，德国巨头冲着特斯拉来了            5\n",
       "1  恒大透露更多造车细节：最快年底开启车型预售 智能网联系统百度腾讯任你选            5\n",
       "2           综合续航超过1100公里 WEY玛奇朵还要直播见证？            5\n",
       "3         混动时代的“WEY来”在哪里？上海车展这款玛奇朵有故事！            5\n",
       "4           糅合纯电与燃油双重优势 WEY玛奇朵究竟是怎么做到的            5"
      ]
     },
     "execution_count": 21,
     "metadata": {},
     "output_type": "execute_result"
    }
   ],
   "source": [
    "df = pd.read_excel(r'C:\\Users\\Colin_Jing\\competition\\中国软件杯\\开源data\\train.xlsx')\n",
    "df.head()"
   ]
  },
  {
   "cell_type": "code",
   "execution_count": 23,
   "id": "e2676b1a",
   "metadata": {},
   "outputs": [],
   "source": [
    "group = df.groupby('channelName')\n",
    "df1 = group.get_group(2)\n",
    "df1\n",
    "df1.to_excel(r'C:\\Users\\Colin_Jing\\competition\\中国软件杯\\开源data\\教育.xlsx',index=None,header=['content','channelName'])"
   ]
  },
  {
   "cell_type": "code",
   "execution_count": 65,
   "id": "a642dfb2",
   "metadata": {},
   "outputs": [],
   "source": [
    "df = pd.read_excel(r'C:\\Users\\Colin_Jing\\competition\\中国软件杯\\数据爬取\\人民网\\房产.xlsx',header=None)\n",
    "df.dropna(axis=0, how='any', inplace=True)\n"
   ]
  },
  {
   "cell_type": "code",
   "execution_count": 67,
   "id": "c70df633",
   "metadata": {},
   "outputs": [],
   "source": [
    "\n",
    "for i in df.index:\n",
    "    row = df.loc[i]   #loc是根据df的行索引名称来加载的（行名称列名称），iloc是根据行索引顺序来加载的（行数列数）\n",
    "    if len(row[0]) < 5:\n",
    "        print(row[0])\n",
    "        print(i)\n",
    "        df.drop(i, axis=0, inplace=True)\n",
    "        #df.drop(index = [i],axis=0,inplace=True)\n",
    "df.shape\n",
    "df.to_excel(r'C:\\Users\\Colin_Jing\\competition\\中国软件杯\\数据爬取\\人民网\\房产.xlsx',index=None,header=None)\n"
   ]
  },
  {
   "cell_type": "code",
   "execution_count": 63,
   "id": "ed66992e",
   "metadata": {},
   "outputs": [
    {
     "data": {
      "text/plain": [
       "(521, 2)"
      ]
     },
     "execution_count": 63,
     "metadata": {},
     "output_type": "execute_result"
    }
   ],
   "source": [
    "\n"
   ]
  },
  {
   "cell_type": "code",
   "execution_count": 64,
   "id": "f047673d",
   "metadata": {},
   "outputs": [
    {
     "data": {
      "text/html": [
       "<div>\n",
       "<style scoped>\n",
       "    .dataframe tbody tr th:only-of-type {\n",
       "        vertical-align: middle;\n",
       "    }\n",
       "\n",
       "    .dataframe tbody tr th {\n",
       "        vertical-align: top;\n",
       "    }\n",
       "\n",
       "    .dataframe thead th {\n",
       "        text-align: right;\n",
       "    }\n",
       "</style>\n",
       "<table border=\"1\" class=\"dataframe\">\n",
       "  <thead>\n",
       "    <tr style=\"text-align: right;\">\n",
       "      <th></th>\n",
       "      <th>0</th>\n",
       "      <th>1</th>\n",
       "    </tr>\n",
       "  </thead>\n",
       "  <tbody>\n",
       "    <tr>\n",
       "      <th>0</th>\n",
       "      <td>住建部：我国住房保障能力持续增强 累计帮助2亿多困难群众改善住房条件</td>\n",
       "      <td>房产</td>\n",
       "    </tr>\n",
       "    <tr>\n",
       "      <th>1</th>\n",
       "      <td>多地政策频出，“学区房”降温了吗？</td>\n",
       "      <td>房产</td>\n",
       "    </tr>\n",
       "    <tr>\n",
       "      <th>2</th>\n",
       "      <td>北京西城：不得以学区房为卖点发布房源</td>\n",
       "      <td>房产</td>\n",
       "    </tr>\n",
       "    <tr>\n",
       "      <th>3</th>\n",
       "      <td>老砖盖起老商铺 胡同散发文化味</td>\n",
       "      <td>房产</td>\n",
       "    </tr>\n",
       "    <tr>\n",
       "      <th>4</th>\n",
       "      <td>为了抗风防振，高层建筑都“很拼”</td>\n",
       "      <td>房产</td>\n",
       "    </tr>\n",
       "    <tr>\n",
       "      <th>...</th>\n",
       "      <td>...</td>\n",
       "      <td>...</td>\n",
       "    </tr>\n",
       "    <tr>\n",
       "      <th>1397</th>\n",
       "      <td>租屋不登记 屋主受罚出租屋被封</td>\n",
       "      <td>房产</td>\n",
       "    </tr>\n",
       "    <tr>\n",
       "      <th>1398</th>\n",
       "      <td>一套房子既出租又出售 新房东无奈贴…</td>\n",
       "      <td>房产</td>\n",
       "    </tr>\n",
       "    <tr>\n",
       "      <th>1399</th>\n",
       "      <td>儿子租房给父亲 老父交不起房租被其…</td>\n",
       "      <td>房产</td>\n",
       "    </tr>\n",
       "    <tr>\n",
       "      <th>1400</th>\n",
       "      <td>搞懂能贷多少钱 二手房贷款先问房产…</td>\n",
       "      <td>房产</td>\n",
       "    </tr>\n",
       "    <tr>\n",
       "      <th>1401</th>\n",
       "      <td>开发商交房晚了 法院为啥判不用赔偿？</td>\n",
       "      <td>房产</td>\n",
       "    </tr>\n",
       "  </tbody>\n",
       "</table>\n",
       "<p>521 rows × 2 columns</p>\n",
       "</div>"
      ],
      "text/plain": [
       "                                       0   1\n",
       "0     住建部：我国住房保障能力持续增强 累计帮助2亿多困难群众改善住房条件  房产\n",
       "1                      多地政策频出，“学区房”降温了吗？  房产\n",
       "2                     北京西城：不得以学区房为卖点发布房源  房产\n",
       "3                        老砖盖起老商铺 胡同散发文化味  房产\n",
       "4                       为了抗风防振，高层建筑都“很拼”  房产\n",
       "...                                  ...  ..\n",
       "1397                     租屋不登记 屋主受罚出租屋被封  房产\n",
       "1398                  一套房子既出租又出售 新房东无奈贴…  房产\n",
       "1399                  儿子租房给父亲 老父交不起房租被其…  房产\n",
       "1400                  搞懂能贷多少钱 二手房贷款先问房产…  房产\n",
       "1401                  开发商交房晚了 法院为啥判不用赔偿？  房产\n",
       "\n",
       "[521 rows x 2 columns]"
      ]
     },
     "execution_count": 64,
     "metadata": {},
     "output_type": "execute_result"
    }
   ],
   "source": []
  },
  {
   "cell_type": "code",
   "execution_count": null,
   "id": "c7138f61",
   "metadata": {},
   "outputs": [],
   "source": []
  }
 ],
 "metadata": {
  "kernelspec": {
   "display_name": "Python 3",
   "language": "python",
   "name": "python3"
  },
  "language_info": {
   "codemirror_mode": {
    "name": "ipython",
    "version": 3
   },
   "file_extension": ".py",
   "mimetype": "text/x-python",
   "name": "python",
   "nbconvert_exporter": "python",
   "pygments_lexer": "ipython3",
   "version": "3.8.8"
  }
 },
 "nbformat": 4,
 "nbformat_minor": 5
}
